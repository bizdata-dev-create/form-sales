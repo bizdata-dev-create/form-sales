﻿{
 "cells": [
  {
   "cell_type": "markdown",
   "metadata": {},
   "source": [
    "# 事前設定のインストール"
   ]
  },
  {
   "cell_type": "code",
   "execution_count": null,
   "metadata": {},
   "outputs": [
    {
     "name": "stdout",
     "output_type": "stream",
     "text": [
      "ログ設定完了\n",
      "c:\\Users\\qingy\\anaconda3\\python.exe\n",
      "✅ 改善版エクスポート関数定義完了（API制限対策付き）\n",
      "使用方法: export_unknown_contacts_to_gsheet_improved(contact_url_filled_df, failure_storage_SPREADSHEET_ID, '問い合わせURL未取得')\n",
      "Python executable: c:\\Users\\qingy\\anaconda3\\python.exe\n",
      "Python version: 3.12.7 | packaged by Anaconda, Inc. | (main, Oct  4 2024, 13:17:27) [MSC v.1929 64 bit (AMD64)]\n",
      "Python path: ['C:\\\\Users\\\\qingy\\\\Documents\\\\自動フォーム営業事業\\\\form-sales\\\\src', 'C:\\\\Users\\\\qingy\\\\Documents\\\\自動フォーム営業事業\\\\form-sales\\\\src', 'C:\\\\Users\\\\qingy\\\\Documents\\\\自動フォーム営業事業\\\\form-sales\\\\src']\n"
     ]
    }
   ],
   "source": [
    "from form_url_fetch_msg_write_py._01_helpers import *\n",
    "# 以後 helpers.xxx を利用"
   ]
  },
  {
   "cell_type": "markdown",
   "metadata": {},
   "source": [
    "## APIやCSEの読み込み"
   ]
  },
  {
   "cell_type": "code",
   "execution_count": null,
   "metadata": {},
   "outputs": [],
   "source": [
    "import os\n",
    "from pathlib import Path\n",
    "from dotenv import load_dotenv, find_dotenv\n",
    "import os\n",
    "# プロジェクト直下の .env を特定して上書き読み込み\n",
    "project_root = next(p for p in [Path.cwd(), *Path.cwd().parents] if (p / \".env\").exists())\n",
    "env_file = str(project_root / \".env\")\n",
    "load_dotenv(dotenv_path=env_file, override=True)\n",
    "\n",
    "OPENAI_API_KEY = os.getenv(\"OPENAI_API_KEY\", \"\")\n",
    "GOOGLE_API_KEY = os.getenv(\"GOOGLE_API_KEY\", \"\")\n",
    "GEMINI_API_KEY = os.getenv(\"GEMINI_API_KEY\", \"\")\n",
    "CSE_ID = os.getenv(\"CSE_ID\", \"\")\n",
    "cse_client = make_search_client(GOOGLE_API_KEY, CSE_ID)\n",
    "\n",
    "# OpenAI クライアントは各関数内で os.getenv(\"OPENAI_API_KEY\", \"\") を参照"
   ]
  },
  {
   "cell_type": "markdown",
   "metadata": {},
   "source": [
    "## dfの読み込み"
   ]
  },
  {
   "cell_type": "code",
   "execution_count": 35,
   "metadata": {},
   "outputs": [
    {
     "data": {
      "text/html": [
       "<div>\n",
       "<style scoped>\n",
       "    .dataframe tbody tr th:only-of-type {\n",
       "        vertical-align: middle;\n",
       "    }\n",
       "\n",
       "    .dataframe tbody tr th {\n",
       "        vertical-align: top;\n",
       "    }\n",
       "\n",
       "    .dataframe thead th {\n",
       "        text-align: right;\n",
       "    }\n",
       "</style>\n",
       "<table border=\"1\" class=\"dataframe\">\n",
       "  <thead>\n",
       "    <tr style=\"text-align: right;\">\n",
       "      <th></th>\n",
       "      <th>company_name</th>\n",
       "    </tr>\n",
       "  </thead>\n",
       "  <tbody>\n",
       "    <tr>\n",
       "      <th>0</th>\n",
       "      <td>坪内自動車</td>\n",
       "    </tr>\n",
       "    <tr>\n",
       "      <th>1</th>\n",
       "      <td>有限会社　黒川鈑金工業所</td>\n",
       "    </tr>\n",
       "    <tr>\n",
       "      <th>2</th>\n",
       "      <td>日髙自動車株式会社</td>\n",
       "    </tr>\n",
       "    <tr>\n",
       "      <th>3</th>\n",
       "      <td>Ｎ－ＭＡＧＩＣ</td>\n",
       "    </tr>\n",
       "    <tr>\n",
       "      <th>4</th>\n",
       "      <td>Ｃａｒ　Ｐｒｏｄｕｃｅ　Ｒｏｌｌｉｎ／（株）ローリン</td>\n",
       "    </tr>\n",
       "  </tbody>\n",
       "</table>\n",
       "</div>"
      ],
      "text/plain": [
       "                 company_name\n",
       "0                       坪内自動車\n",
       "1                有限会社　黒川鈑金工業所\n",
       "2                   日髙自動車株式会社\n",
       "3                     Ｎ－ＭＡＧＩＣ\n",
       "4  Ｃａｒ　Ｐｒｏｄｕｃｅ　Ｒｏｌｌｉｎ／（株）ローリン"
      ]
     },
     "execution_count": 35,
     "metadata": {},
     "output_type": "execute_result"
    }
   ],
   "source": [
    "#df の格納を確認\n",
    "df = pd.read_csv(r'C:\\Users\\qingy\\Documents\\自動フォーム営業事業\\対象リスト\\グーネットリスト.csv')\n",
    "# df = pd.read_excel('/content/グーネットURL検証.xlsx')\n",
    "df.rename(columns={'会社名': 'company_name'}, inplace=True)\n",
    "df.head()"
   ]
  },
  {
   "cell_type": "markdown",
   "metadata": {},
   "source": [
    "# 営業文プロンプトテスト"
   ]
  },
  {
   "cell_type": "markdown",
   "metadata": {},
   "source": [
    "## プロンプト変数"
   ]
  },
  {
   "cell_type": "code",
   "execution_count": 11,
   "metadata": {},
   "outputs": [],
   "source": [
    "BUSINESS_TYPE_VOCAB = [\n",
    "    \"車検工場\",\"整備工場\",\"板金塗装\",\"中古車販売店\",\n",
    "    \"パーソナルジム\",\"フィットネスジム\",\"美容室\",\"理容室\",\"エステサロン\",\n",
    "    \"整体院\",\"鍼灸院\",\"歯科クリニック\",\n",
    "    \"レストラン\",\"居酒屋\",\"カフェ\",\"ラーメン店\",\n",
    "    \"工務店\",\"不動産仲介\",\"税理士事務所\",\n",
    "    \"学習塾\",\"英会話教室\",\"保育園\",\"写真館\",\n",
    "    \"ホテル\",\"旅館\",\"ハウスクリーニング\",\"引越し\",\"葬儀社\",\n",
    "    \"IT受託開発\",\"B2Bコンサル\",\"SaaS\",\"ECショップ\"\n",
    "]\n",
    "\n",
    "PROMPT_CLASSIFY = r\"\"\"\n",
    "あなたは企業サイトの一次情報のみを用いて特徴を同定するアナリストです。\n",
    "入力は公式サイトURLのみ。この公式サイトを持つ会社の色々な情報を取得してほしい。\n",
    "基本的には与えられたURLに関してのHTTP取得でサイトを確認し、以下のJSONだけを返してください。URLや[1]等の引用番号は返却値に含めないで。\n",
    "\n",
    "# 対象URL\n",
    "{hp_url}\n",
    "\n",
    "# 出力仕様\n",
    "- company_name は会社概要等のページから、会社の正式名称を取得して\n",
    "- business_type は次のリストから必ず1つ（該当なしは \"その他\"）。名詞のみ/最大10文字/記号・絵文字禁止/英語はカタカナ。\n",
    "- confidence が0.7未満なら business_type は \"その他\" にする。\n",
    "- strengths: 公式サイトから読み取れる「強み」を 40〜120字で要約（箇条書き不可、一次情報のみ）。\n",
    "- values: 経営理念/大事にしていることを 30〜100字で要約（一次情報のみ）。\n",
    "- address_text: 会社概要/会社情報/アクセス等からの**住所一行表記**（例: \"〒123-4567 東京都渋谷区〇〇1-2-3\"）。不明なら空文字。\n",
    "\n",
    "候補: {vocab_list}\n",
    "\n",
    "# 応答（JSONのみ、キー順固定）\n",
    "{{\n",
    "  \"company_name\": \"正式な社名/屋号（20字以内、なければ空）\",\n",
    "  \"business_type\": \"候補から1つ or その他\",\n",
    "  \"other_label\": \"その他のときのみ5〜10文字、そうでないときは空\",\n",
    "  \"strengths\": \"40〜120字\",\n",
    "  \"values\": \"30〜100字\",\n",
    "  \"address_text\": \"住所一行表記（不明なら空）\",\n",
    "  \"evidence\": \"根拠の簡潔説明（20〜60字）\",\n",
    "  \"confidence\": 0.0\n",
    "}}\n",
    "\"\"\""
   ]
  },
  {
   "cell_type": "code",
   "execution_count": 12,
   "metadata": {
    "lines_to_next_cell": 2
   },
   "outputs": [],
   "source": [
    "PROMPT_SALES = r\"\"\"\n",
    "＝＝＝\n",
    "＃営業文章テンプレート\n",
    "【ご提案】素敵な{business_type}のWEB集客を「成果が出た時だけ発生する費用」で支援させて頂けませんか？\n",
    "\n",
    "{company_name}　ご担当者様\n",
    "\n",
    "突然のご連絡失礼します。友人に依頼され{business_type}を探していたところ偶然御社を拝見し、サービスクオリティがあまりにも高そうだったのでつい連絡してしまいました。（ここに{strengths}や{values}より、この事業所を称える文章をいれて）\n",
    "\n",
    "自己紹介おくれました、ウェブ経由の集客支援をしている株式会社S-gate代表の佐野と申します。特に御社のようなハイクオリティなサービスで勝負されている事業者様ではWEB集客を強化することで、営業の安定化及び更なる利益向上に結び付きやすく、よければお話できないかと思い、連絡させていただきました。\n",
    "\n",
    "弊社は店舗運営事業者向けに、「検索KWが上位10位にランクインした場合のみ料金発生するSEO対策サービス」を運営しております。弊社は自社でもSNSやウェブサイト運用を通して集客をしていることから「血の通ったノウハウ提供」ができると自負しております。\n",
    "さらに私たちは{business_type}の業者様向けのウェブ集客を支援し、1か月以内に売上を50％ほど向上させた実績もあり、その際のノウハウを惜しみなく共有することができます。\n",
    "\n",
    "ぜひ貴店のようなハイクオリティーなサービスを持ったお店に売上を伸ばしてほしいです。\n",
    "以下連絡先です。もしよければメール（sano@s-gate-tokyo.co.jp）より連絡ください。\n",
    "\n",
    "メール：sano@s-gate-tokyo.co.jp\n",
    "会社HP：https://s-gate-tokyo.co.jp/\n",
    "紹介資料：https://drive.google.com/file/d/1OKjBJhIUZrM9NskhNfdo9w9H22psE3yo/view?usp=sharing\n",
    "＝＝＝\n",
    "\"\"\""
   ]
  },
  {
   "cell_type": "markdown",
   "metadata": {},
   "source": [
    "## テストして、良し悪しを見る"
   ]
  },
  {
   "cell_type": "code",
   "execution_count": 46,
   "metadata": {
    "lines_to_next_cell": 2
   },
   "outputs": [
    {
     "name": "stdout",
     "output_type": "stream",
     "text": [
      "url: https://www.goo-net.com/usedcar_shop/0710016/detail.html\n",
      "0 finished ================================================================================\n",
      "url: https://kuro-b.com/\n",
      "1 finished ================================================================================\n",
      "url: https://www.goo-net.com/pit/shop/0172119/top\n",
      "2 finished ================================================================================\n"
     ]
    }
   ],
   "source": [
    "# 修正版で再実行\n",
    "for i in range(len(df[17:20])):\n",
    "    name = df.at[i, 'company_name']\n",
    "    url = get_hp_url(name, cse_client, CSE_ID)\n",
    "    print(\"url:\",url)\n",
    "    # resp = openai.responses.create(\n",
    "    #     model=\"gpt-5-mini\",  \n",
    "    #     input=PROMPT_CLASSIFY.format(hp_url=url,vocab_list=\", \".join(BUSINESS_TYPE_VOCAB)),\n",
    "    #     tools=[{\"type\": \"web_search\"}]  # 内蔵Web検索を有効化\n",
    "    # )\n",
    "    # comp_data = json.loads(resp.output_text)\n",
    "    # print(comp_data)\n",
    "    # print(\"=\"*80)\n",
    "    # text = generate_sales_copy_with_infomation(comp_data, PROMPT_SALES, model=\"gpt-5-mini\")\n",
    "    # print(text)\n",
    "    print(i,\"finished\",\"=\"*80)"
   ]
  }
 ],
 "metadata": {
  "colab": {
   "provenance": []
  },
  "kernelspec": {
   "display_name": "base",
   "language": "python",
   "name": "python3"
  },
  "language_info": {
   "codemirror_mode": {
    "name": "ipython",
    "version": 3
   },
   "file_extension": ".py",
   "mimetype": "text/x-python",
   "name": "python",
   "nbconvert_exporter": "python",
   "pygments_lexer": "ipython3",
   "version": "3.12.7"
  },
  "widgets": {
   "application/vnd.jupyter.widget-state+json": {
    "20d9209b5bed43a4989322b110abca7b": {
     "model_module": "@jupyter-widgets/controls",
     "model_module_version": "1.5.0",
     "model_name": "HBoxModel",
     "state": {
      "_dom_classes": [],
      "_model_module": "@jupyter-widgets/controls",
      "_model_module_version": "1.5.0",
      "_model_name": "HBoxModel",
      "_view_count": null,
      "_view_module": "@jupyter-widgets/controls",
      "_view_module_version": "1.5.0",
      "_view_name": "HBoxView",
      "box_style": "",
      "children": [
       "IPY_MODEL_a4e439a8899642198f22667d43945673",
       "IPY_MODEL_7d93eb22d9ca491aa1614d56ba06e1b6",
       "IPY_MODEL_48ec91f9210f4a18bc37a8a29d4cf4c3"
      ],
      "layout": "IPY_MODEL_c0fe43163321447d8d74fbbe5c99d973"
     }
    },
    "21f94c8a7fbd477c8165f794582a2e8d": {
     "model_module": "@jupyter-widgets/controls",
     "model_module_version": "1.5.0",
     "model_name": "DescriptionStyleModel",
     "state": {
      "_model_module": "@jupyter-widgets/controls",
      "_model_module_version": "1.5.0",
      "_model_name": "DescriptionStyleModel",
      "_view_count": null,
      "_view_module": "@jupyter-widgets/base",
      "_view_module_version": "1.2.0",
      "_view_name": "StyleView",
      "description_width": ""
     }
    },
    "3071f4f900f44f3583a681f18a565968": {
     "model_module": "@jupyter-widgets/base",
     "model_module_version": "1.2.0",
     "model_name": "LayoutModel",
     "state": {
      "_model_module": "@jupyter-widgets/base",
      "_model_module_version": "1.2.0",
      "_model_name": "LayoutModel",
      "_view_count": null,
      "_view_module": "@jupyter-widgets/base",
      "_view_module_version": "1.2.0",
      "_view_name": "LayoutView",
      "align_content": null,
      "align_items": null,
      "align_self": null,
      "border": null,
      "bottom": null,
      "display": null,
      "flex": null,
      "flex_flow": null,
      "grid_area": null,
      "grid_auto_columns": null,
      "grid_auto_flow": null,
      "grid_auto_rows": null,
      "grid_column": null,
      "grid_gap": null,
      "grid_row": null,
      "grid_template_areas": null,
      "grid_template_columns": null,
      "grid_template_rows": null,
      "height": null,
      "justify_content": null,
      "justify_items": null,
      "left": null,
      "margin": null,
      "max_height": null,
      "max_width": null,
      "min_height": null,
      "min_width": null,
      "object_fit": null,
      "object_position": null,
      "order": null,
      "overflow": null,
      "overflow_x": null,
      "overflow_y": null,
      "padding": null,
      "right": null,
      "top": null,
      "visibility": null,
      "width": null
     }
    },
    "48ec91f9210f4a18bc37a8a29d4cf4c3": {
     "model_module": "@jupyter-widgets/controls",
     "model_module_version": "1.5.0",
     "model_name": "HTMLModel",
     "state": {
      "_dom_classes": [],
      "_model_module": "@jupyter-widgets/controls",
      "_model_module_version": "1.5.0",
      "_model_name": "HTMLModel",
      "_view_count": null,
      "_view_module": "@jupyter-widgets/controls",
      "_view_module_version": "1.5.0",
      "_view_name": "HTMLView",
      "description": "",
      "description_tooltip": null,
      "layout": "IPY_MODEL_af65e194f67b49078c869f190c0de178",
      "placeholder": "​",
      "style": "IPY_MODEL_21f94c8a7fbd477c8165f794582a2e8d",
      "value": " 7/7 [04:07&lt;00:00, 37.25s/社]"
     }
    },
    "4c55f83e7be64a4b8588a22018204413": {
     "model_module": "@jupyter-widgets/controls",
     "model_module_version": "1.5.0",
     "model_name": "ProgressStyleModel",
     "state": {
      "_model_module": "@jupyter-widgets/controls",
      "_model_module_version": "1.5.0",
      "_model_name": "ProgressStyleModel",
      "_view_count": null,
      "_view_module": "@jupyter-widgets/base",
      "_view_module_version": "1.2.0",
      "_view_name": "StyleView",
      "bar_color": null,
      "description_width": ""
     }
    },
    "72cd4ad0c91f48f8a5b960e64cdf6b30": {
     "model_module": "@jupyter-widgets/base",
     "model_module_version": "1.2.0",
     "model_name": "LayoutModel",
     "state": {
      "_model_module": "@jupyter-widgets/base",
      "_model_module_version": "1.2.0",
      "_model_name": "LayoutModel",
      "_view_count": null,
      "_view_module": "@jupyter-widgets/base",
      "_view_module_version": "1.2.0",
      "_view_name": "LayoutView",
      "align_content": null,
      "align_items": null,
      "align_self": null,
      "border": null,
      "bottom": null,
      "display": null,
      "flex": null,
      "flex_flow": null,
      "grid_area": null,
      "grid_auto_columns": null,
      "grid_auto_flow": null,
      "grid_auto_rows": null,
      "grid_column": null,
      "grid_gap": null,
      "grid_row": null,
      "grid_template_areas": null,
      "grid_template_columns": null,
      "grid_template_rows": null,
      "height": null,
      "justify_content": null,
      "justify_items": null,
      "left": null,
      "margin": null,
      "max_height": null,
      "max_width": null,
      "min_height": null,
      "min_width": null,
      "object_fit": null,
      "object_position": null,
      "order": null,
      "overflow": null,
      "overflow_x": null,
      "overflow_y": null,
      "padding": null,
      "right": null,
      "top": null,
      "visibility": null,
      "width": null
     }
    },
    "7d93eb22d9ca491aa1614d56ba06e1b6": {
     "model_module": "@jupyter-widgets/controls",
     "model_module_version": "1.5.0",
     "model_name": "FloatProgressModel",
     "state": {
      "_dom_classes": [],
      "_model_module": "@jupyter-widgets/controls",
      "_model_module_version": "1.5.0",
      "_model_name": "FloatProgressModel",
      "_view_count": null,
      "_view_module": "@jupyter-widgets/controls",
      "_view_module_version": "1.5.0",
      "_view_name": "ProgressView",
      "bar_style": "success",
      "description": "",
      "description_tooltip": null,
      "layout": "IPY_MODEL_72cd4ad0c91f48f8a5b960e64cdf6b30",
      "max": 7,
      "min": 0,
      "orientation": "horizontal",
      "style": "IPY_MODEL_4c55f83e7be64a4b8588a22018204413",
      "value": 7
     }
    },
    "a4e439a8899642198f22667d43945673": {
     "model_module": "@jupyter-widgets/controls",
     "model_module_version": "1.5.0",
     "model_name": "HTMLModel",
     "state": {
      "_dom_classes": [],
      "_model_module": "@jupyter-widgets/controls",
      "_model_module_version": "1.5.0",
      "_model_name": "HTMLModel",
      "_view_count": null,
      "_view_module": "@jupyter-widgets/controls",
      "_view_module_version": "1.5.0",
      "_view_name": "HTMLView",
      "description": "",
      "description_tooltip": null,
      "layout": "IPY_MODEL_3071f4f900f44f3583a681f18a565968",
      "placeholder": "​",
      "style": "IPY_MODEL_fbe16c8aa373435faaee0ba5d6f5ac6a",
      "value": "営業文生成: 100%"
     }
    },
    "af65e194f67b49078c869f190c0de178": {
     "model_module": "@jupyter-widgets/base",
     "model_module_version": "1.2.0",
     "model_name": "LayoutModel",
     "state": {
      "_model_module": "@jupyter-widgets/base",
      "_model_module_version": "1.2.0",
      "_model_name": "LayoutModel",
      "_view_count": null,
      "_view_module": "@jupyter-widgets/base",
      "_view_module_version": "1.2.0",
      "_view_name": "LayoutView",
      "align_content": null,
      "align_items": null,
      "align_self": null,
      "border": null,
      "bottom": null,
      "display": null,
      "flex": null,
      "flex_flow": null,
      "grid_area": null,
      "grid_auto_columns": null,
      "grid_auto_flow": null,
      "grid_auto_rows": null,
      "grid_column": null,
      "grid_gap": null,
      "grid_row": null,
      "grid_template_areas": null,
      "grid_template_columns": null,
      "grid_template_rows": null,
      "height": null,
      "justify_content": null,
      "justify_items": null,
      "left": null,
      "margin": null,
      "max_height": null,
      "max_width": null,
      "min_height": null,
      "min_width": null,
      "object_fit": null,
      "object_position": null,
      "order": null,
      "overflow": null,
      "overflow_x": null,
      "overflow_y": null,
      "padding": null,
      "right": null,
      "top": null,
      "visibility": null,
      "width": null
     }
    },
    "c0fe43163321447d8d74fbbe5c99d973": {
     "model_module": "@jupyter-widgets/base",
     "model_module_version": "1.2.0",
     "model_name": "LayoutModel",
     "state": {
      "_model_module": "@jupyter-widgets/base",
      "_model_module_version": "1.2.0",
      "_model_name": "LayoutModel",
      "_view_count": null,
      "_view_module": "@jupyter-widgets/base",
      "_view_module_version": "1.2.0",
      "_view_name": "LayoutView",
      "align_content": null,
      "align_items": null,
      "align_self": null,
      "border": null,
      "bottom": null,
      "display": null,
      "flex": null,
      "flex_flow": null,
      "grid_area": null,
      "grid_auto_columns": null,
      "grid_auto_flow": null,
      "grid_auto_rows": null,
      "grid_column": null,
      "grid_gap": null,
      "grid_row": null,
      "grid_template_areas": null,
      "grid_template_columns": null,
      "grid_template_rows": null,
      "height": null,
      "justify_content": null,
      "justify_items": null,
      "left": null,
      "margin": null,
      "max_height": null,
      "max_width": null,
      "min_height": null,
      "min_width": null,
      "object_fit": null,
      "object_position": null,
      "order": null,
      "overflow": null,
      "overflow_x": null,
      "overflow_y": null,
      "padding": null,
      "right": null,
      "top": null,
      "visibility": null,
      "width": null
     }
    },
    "fbe16c8aa373435faaee0ba5d6f5ac6a": {
     "model_module": "@jupyter-widgets/controls",
     "model_module_version": "1.5.0",
     "model_name": "DescriptionStyleModel",
     "state": {
      "_model_module": "@jupyter-widgets/controls",
      "_model_module_version": "1.5.0",
      "_model_name": "DescriptionStyleModel",
      "_view_count": null,
      "_view_module": "@jupyter-widgets/base",
      "_view_module_version": "1.2.0",
      "_view_name": "StyleView",
      "description_width": ""
     }
    }
   }
  }
 },
 "nbformat": 4,
 "nbformat_minor": 0
}
